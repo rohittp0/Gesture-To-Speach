{
 "cells": [
  {
   "cell_type": "code",
   "execution_count": 67,
   "metadata": {
    "pycharm": {
     "name": "#%%\n"
    }
   },
   "outputs": [],
   "source": [
    "import csv\n",
    "\n",
    "import numpy as np\n",
    "import tensorflow as tf\n",
    "from sklearn.model_selection import train_test_split\n",
    "\n",
    "RANDOM_SEED = 42"
   ]
  },
  {
   "cell_type": "markdown",
   "metadata": {
    "pycharm": {
     "name": "#%% md\n"
    }
   },
   "source": [
    "# 各パス指定"
   ]
  },
  {
   "cell_type": "code",
   "execution_count": 68,
   "metadata": {
    "pycharm": {
     "name": "#%%\n"
    }
   },
   "outputs": [],
   "source": [
    "dataset = 'model/keypoint_classifier/keypoint.csv'\n",
    "model_save_path = 'model/keypoint_classifier/keypoint_classifier.hdf5'"
   ]
  },
  {
   "cell_type": "markdown",
   "metadata": {
    "pycharm": {
     "name": "#%% md\n"
    }
   },
   "source": [
    "# 分類数設定"
   ]
  },
  {
   "cell_type": "code",
   "execution_count": 69,
   "metadata": {
    "pycharm": {
     "name": "#%%\n"
    }
   },
   "outputs": [],
   "source": [
    "NUM_CLASSES = 7"
   ]
  },
  {
   "cell_type": "markdown",
   "metadata": {
    "pycharm": {
     "name": "#%% md\n"
    }
   },
   "source": [
    "# 学習データ読み込み"
   ]
  },
  {
   "cell_type": "code",
   "execution_count": 70,
   "metadata": {
    "pycharm": {
     "name": "#%%\n"
    }
   },
   "outputs": [],
   "source": [
    "X_dataset = np.loadtxt(dataset, delimiter=',', dtype='float32', usecols=list(range(1, (21 * 2) + 1)))"
   ]
  },
  {
   "cell_type": "code",
   "execution_count": 71,
   "metadata": {
    "pycharm": {
     "name": "#%%\n"
    }
   },
   "outputs": [],
   "source": [
    "y_dataset = np.loadtxt(dataset, delimiter=',', dtype='int32', usecols=(0))"
   ]
  },
  {
   "cell_type": "code",
   "execution_count": 72,
   "metadata": {
    "pycharm": {
     "name": "#%%\n"
    }
   },
   "outputs": [],
   "source": [
    "X_train, X_test, y_train, y_test = train_test_split(X_dataset, y_dataset, train_size=0.75, random_state=RANDOM_SEED)"
   ]
  },
  {
   "cell_type": "markdown",
   "metadata": {
    "pycharm": {
     "name": "#%% md\n"
    }
   },
   "source": [
    "# モデル構築"
   ]
  },
  {
   "cell_type": "code",
   "execution_count": 73,
   "metadata": {
    "pycharm": {
     "name": "#%%\n"
    }
   },
   "outputs": [],
   "source": [
    "model = tf.keras.models.Sequential([\n",
    "    tf.keras.layers.Input((21 * 2, )),\n",
    "    tf.keras.layers.Dropout(0.2),\n",
    "    tf.keras.layers.Dense(20, activation='relu'),\n",
    "    tf.keras.layers.Dropout(0.4),\n",
    "    tf.keras.layers.Dense(10, activation='relu'),\n",
    "    tf.keras.layers.Dense(NUM_CLASSES, activation='softmax')\n",
    "])"
   ]
  },
  {
   "cell_type": "code",
   "execution_count": 74,
   "metadata": {
    "pycharm": {
     "name": "#%%\n"
    }
   },
   "outputs": [
    {
     "name": "stdout",
     "output_type": "stream",
     "text": [
      "Model: \"sequential_4\"\n",
      "_________________________________________________________________\n",
      " Layer (type)                Output Shape              Param #   \n",
      "=================================================================\n",
      " dropout_8 (Dropout)         (None, 42)                0         \n",
      "                                                                 \n",
      " dense_12 (Dense)            (None, 20)                860       \n",
      "                                                                 \n",
      " dropout_9 (Dropout)         (None, 20)                0         \n",
      "                                                                 \n",
      " dense_13 (Dense)            (None, 10)                210       \n",
      "                                                                 \n",
      " dense_14 (Dense)            (None, 7)                 77        \n",
      "                                                                 \n",
      "=================================================================\n",
      "Total params: 1,147\n",
      "Trainable params: 1,147\n",
      "Non-trainable params: 0\n",
      "_________________________________________________________________\n"
     ]
    }
   ],
   "source": [
    "model.summary()  # tf.keras.utils.plot_model(model, show_shapes=True)"
   ]
  },
  {
   "cell_type": "code",
   "execution_count": 75,
   "metadata": {
    "pycharm": {
     "name": "#%%\n"
    }
   },
   "outputs": [],
   "source": [
    "# モデルチェックポイントのコールバック\n",
    "cp_callback = tf.keras.callbacks.ModelCheckpoint(\n",
    "    model_save_path, verbose=1, save_weights_only=False)\n",
    "# 早期打ち切り用コールバック\n",
    "es_callback = tf.keras.callbacks.EarlyStopping(patience=20, verbose=1)"
   ]
  },
  {
   "cell_type": "code",
   "execution_count": 76,
   "metadata": {
    "pycharm": {
     "name": "#%%\n"
    }
   },
   "outputs": [],
   "source": [
    "# モデルコンパイル\n",
    "model.compile(\n",
    "    optimizer='adam',\n",
    "    loss='sparse_categorical_crossentropy',\n",
    "    metrics=['accuracy']\n",
    ")"
   ]
  },
  {
   "cell_type": "markdown",
   "metadata": {
    "pycharm": {
     "name": "#%% md\n"
    }
   },
   "source": [
    "# モデル訓練"
   ]
  },
  {
   "cell_type": "code",
   "execution_count": 77,
   "metadata": {
    "scrolled": true,
    "pycharm": {
     "name": "#%%\n"
    }
   },
   "outputs": [
    {
     "name": "stdout",
     "output_type": "stream",
     "text": [
      "Epoch 1/1000\n",
      " 1/34 [..............................] - ETA: 7s - loss: 2.0885 - accuracy: 0.1328\n",
      "Epoch 1: saving model to model/keypoint_classifier\\keypoint_classifier.hdf5\n",
      "34/34 [==============================] - 0s 4ms/step - loss: 1.9828 - accuracy: 0.1804 - val_loss: 1.8555 - val_accuracy: 0.3371\n",
      "Epoch 2/1000\n",
      " 1/34 [..............................] - ETA: 0s - loss: 1.9110 - accuracy: 0.2344\n",
      "Epoch 2: saving model to model/keypoint_classifier\\keypoint_classifier.hdf5\n",
      "34/34 [==============================] - 0s 2ms/step - loss: 1.8379 - accuracy: 0.2966 - val_loss: 1.7482 - val_accuracy: 0.4001\n",
      "Epoch 3/1000\n",
      " 1/34 [..............................] - ETA: 0s - loss: 1.7879 - accuracy: 0.2891\n",
      "Epoch 3: saving model to model/keypoint_classifier\\keypoint_classifier.hdf5\n",
      "34/34 [==============================] - 0s 2ms/step - loss: 1.7495 - accuracy: 0.3269 - val_loss: 1.6322 - val_accuracy: 0.4849\n",
      "Epoch 4/1000\n",
      " 1/34 [..............................] - ETA: 0s - loss: 1.7533 - accuracy: 0.3125\n",
      "Epoch 4: saving model to model/keypoint_classifier\\keypoint_classifier.hdf5\n",
      "34/34 [==============================] - 0s 2ms/step - loss: 1.6533 - accuracy: 0.3800 - val_loss: 1.5324 - val_accuracy: 0.5725\n",
      "Epoch 5/1000\n",
      " 1/34 [..............................] - ETA: 0s - loss: 1.5866 - accuracy: 0.4062\n",
      "Epoch 5: saving model to model/keypoint_classifier\\keypoint_classifier.hdf5\n",
      "34/34 [==============================] - 0s 2ms/step - loss: 1.5872 - accuracy: 0.4120 - val_loss: 1.4522 - val_accuracy: 0.6055\n",
      "Epoch 6/1000\n",
      " 1/34 [..............................] - ETA: 0s - loss: 1.5996 - accuracy: 0.4062\n",
      "Epoch 6: saving model to model/keypoint_classifier\\keypoint_classifier.hdf5\n",
      "34/34 [==============================] - 0s 2ms/step - loss: 1.5372 - accuracy: 0.4384 - val_loss: 1.3808 - val_accuracy: 0.6258\n",
      "Epoch 7/1000\n",
      " 1/34 [..............................] - ETA: 0s - loss: 1.4468 - accuracy: 0.4922\n",
      "Epoch 7: saving model to model/keypoint_classifier\\keypoint_classifier.hdf5\n",
      "34/34 [==============================] - 0s 2ms/step - loss: 1.4836 - accuracy: 0.4700 - val_loss: 1.3237 - val_accuracy: 0.6496\n",
      "Epoch 8/1000\n",
      " 1/34 [..............................] - ETA: 0s - loss: 1.4559 - accuracy: 0.4766\n",
      "Epoch 8: saving model to model/keypoint_classifier\\keypoint_classifier.hdf5\n",
      "34/34 [==============================] - 0s 2ms/step - loss: 1.4489 - accuracy: 0.4866 - val_loss: 1.2661 - val_accuracy: 0.6601\n",
      "Epoch 9/1000\n",
      " 1/34 [..............................] - ETA: 0s - loss: 1.4001 - accuracy: 0.4844\n",
      "Epoch 9: saving model to model/keypoint_classifier\\keypoint_classifier.hdf5\n",
      "34/34 [==============================] - 0s 2ms/step - loss: 1.4185 - accuracy: 0.5057 - val_loss: 1.2248 - val_accuracy: 0.6706\n",
      "Epoch 10/1000\n",
      " 1/34 [..............................] - ETA: 0s - loss: 1.3800 - accuracy: 0.5312\n",
      "Epoch 10: saving model to model/keypoint_classifier\\keypoint_classifier.hdf5\n",
      "34/34 [==============================] - 0s 2ms/step - loss: 1.3886 - accuracy: 0.5104 - val_loss: 1.1864 - val_accuracy: 0.6741\n",
      "Epoch 11/1000\n",
      " 1/34 [..............................] - ETA: 0s - loss: 1.3611 - accuracy: 0.5078\n",
      "Epoch 11: saving model to model/keypoint_classifier\\keypoint_classifier.hdf5\n",
      "34/34 [==============================] - 0s 2ms/step - loss: 1.3612 - accuracy: 0.5130 - val_loss: 1.1502 - val_accuracy: 0.6840\n",
      "Epoch 12/1000\n",
      " 1/34 [..............................] - ETA: 0s - loss: 1.2949 - accuracy: 0.5547\n",
      "Epoch 12: saving model to model/keypoint_classifier\\keypoint_classifier.hdf5\n",
      "34/34 [==============================] - 0s 2ms/step - loss: 1.3394 - accuracy: 0.5242 - val_loss: 1.1220 - val_accuracy: 0.6861\n",
      "Epoch 13/1000\n",
      " 1/34 [..............................] - ETA: 0s - loss: 1.2920 - accuracy: 0.5156\n",
      "Epoch 13: saving model to model/keypoint_classifier\\keypoint_classifier.hdf5\n",
      "34/34 [==============================] - 0s 2ms/step - loss: 1.3320 - accuracy: 0.5396 - val_loss: 1.0898 - val_accuracy: 0.6973\n",
      "Epoch 14/1000\n",
      " 1/34 [..............................] - ETA: 0s - loss: 1.3464 - accuracy: 0.5391\n",
      "Epoch 14: saving model to model/keypoint_classifier\\keypoint_classifier.hdf5\n",
      "34/34 [==============================] - 0s 2ms/step - loss: 1.2940 - accuracy: 0.5412 - val_loss: 1.0635 - val_accuracy: 0.6987\n",
      "Epoch 15/1000\n",
      " 1/34 [..............................] - ETA: 0s - loss: 1.2446 - accuracy: 0.5312\n",
      "Epoch 15: saving model to model/keypoint_classifier\\keypoint_classifier.hdf5\n",
      "34/34 [==============================] - 0s 2ms/step - loss: 1.2720 - accuracy: 0.5527 - val_loss: 1.0359 - val_accuracy: 0.7015\n",
      "Epoch 16/1000\n",
      " 1/34 [..............................] - ETA: 0s - loss: 1.2999 - accuracy: 0.5547\n",
      "Epoch 16: saving model to model/keypoint_classifier\\keypoint_classifier.hdf5\n",
      "34/34 [==============================] - 0s 2ms/step - loss: 1.2445 - accuracy: 0.5560 - val_loss: 1.0093 - val_accuracy: 0.7106\n",
      "Epoch 17/1000\n",
      " 1/34 [..............................] - ETA: 0s - loss: 1.3381 - accuracy: 0.5469\n",
      "Epoch 17: saving model to model/keypoint_classifier\\keypoint_classifier.hdf5\n",
      "34/34 [==============================] - 0s 2ms/step - loss: 1.2189 - accuracy: 0.5765 - val_loss: 0.9889 - val_accuracy: 0.7204\n",
      "Epoch 18/1000\n",
      " 1/34 [..............................] - ETA: 0s - loss: 1.2406 - accuracy: 0.5938\n",
      "Epoch 18: saving model to model/keypoint_classifier\\keypoint_classifier.hdf5\n",
      "34/34 [==============================] - 0s 2ms/step - loss: 1.2041 - accuracy: 0.5751 - val_loss: 0.9666 - val_accuracy: 0.7183\n",
      "Epoch 19/1000\n",
      " 1/34 [..............................] - ETA: 0s - loss: 1.3158 - accuracy: 0.5156\n",
      "Epoch 19: saving model to model/keypoint_classifier\\keypoint_classifier.hdf5\n",
      "34/34 [==============================] - 0s 2ms/step - loss: 1.2006 - accuracy: 0.5705 - val_loss: 0.9422 - val_accuracy: 0.7288\n",
      "Epoch 20/1000\n",
      " 1/34 [..............................] - ETA: 0s - loss: 1.2278 - accuracy: 0.5469\n",
      "Epoch 20: saving model to model/keypoint_classifier\\keypoint_classifier.hdf5\n",
      "34/34 [==============================] - 0s 2ms/step - loss: 1.1762 - accuracy: 0.5833 - val_loss: 0.9242 - val_accuracy: 0.7295\n",
      "Epoch 21/1000\n",
      " 1/34 [..............................] - ETA: 0s - loss: 1.2380 - accuracy: 0.5547\n",
      "Epoch 21: saving model to model/keypoint_classifier\\keypoint_classifier.hdf5\n",
      "34/34 [==============================] - 0s 2ms/step - loss: 1.1497 - accuracy: 0.5936 - val_loss: 0.9003 - val_accuracy: 0.7323\n",
      "Epoch 22/1000\n",
      " 1/34 [..............................] - ETA: 0s - loss: 1.1618 - accuracy: 0.5547\n",
      "Epoch 22: saving model to model/keypoint_classifier\\keypoint_classifier.hdf5\n",
      "34/34 [==============================] - 0s 2ms/step - loss: 1.1530 - accuracy: 0.5931 - val_loss: 0.8882 - val_accuracy: 0.7400\n",
      "Epoch 23/1000\n",
      " 1/34 [..............................] - ETA: 0s - loss: 1.1758 - accuracy: 0.5703\n",
      "Epoch 23: saving model to model/keypoint_classifier\\keypoint_classifier.hdf5\n",
      "34/34 [==============================] - 0s 2ms/step - loss: 1.1299 - accuracy: 0.6008 - val_loss: 0.8742 - val_accuracy: 0.7414\n",
      "Epoch 24/1000\n",
      " 1/34 [..............................] - ETA: 0s - loss: 1.1384 - accuracy: 0.5781\n",
      "Epoch 24: saving model to model/keypoint_classifier\\keypoint_classifier.hdf5\n",
      "34/34 [==============================] - 0s 2ms/step - loss: 1.1256 - accuracy: 0.5959 - val_loss: 0.8566 - val_accuracy: 0.7435\n",
      "Epoch 25/1000\n",
      " 1/34 [..............................] - ETA: 0s - loss: 1.0431 - accuracy: 0.6719\n",
      "Epoch 25: saving model to model/keypoint_classifier\\keypoint_classifier.hdf5\n",
      "34/34 [==============================] - 0s 2ms/step - loss: 1.1023 - accuracy: 0.6039 - val_loss: 0.8403 - val_accuracy: 0.7498\n",
      "Epoch 26/1000\n",
      " 1/34 [..............................] - ETA: 0s - loss: 1.1739 - accuracy: 0.5938\n",
      "Epoch 26: saving model to model/keypoint_classifier\\keypoint_classifier.hdf5\n",
      "34/34 [==============================] - 0s 2ms/step - loss: 1.0884 - accuracy: 0.6069 - val_loss: 0.8322 - val_accuracy: 0.7470\n",
      "Epoch 27/1000\n",
      " 1/34 [..............................] - ETA: 0s - loss: 1.0639 - accuracy: 0.6172\n",
      "Epoch 27: saving model to model/keypoint_classifier\\keypoint_classifier.hdf5\n",
      "34/34 [==============================] - 0s 2ms/step - loss: 1.0821 - accuracy: 0.6067 - val_loss: 0.8159 - val_accuracy: 0.7498\n",
      "Epoch 28/1000\n",
      " 1/34 [..............................] - ETA: 0s - loss: 1.0734 - accuracy: 0.6562\n",
      "Epoch 28: saving model to model/keypoint_classifier\\keypoint_classifier.hdf5\n",
      "34/34 [==============================] - 0s 2ms/step - loss: 1.0860 - accuracy: 0.6088 - val_loss: 0.8107 - val_accuracy: 0.7421\n",
      "Epoch 29/1000\n",
      " 1/34 [..............................] - ETA: 0s - loss: 1.0993 - accuracy: 0.5625\n",
      "Epoch 29: saving model to model/keypoint_classifier\\keypoint_classifier.hdf5\n",
      "34/34 [==============================] - 0s 2ms/step - loss: 1.0836 - accuracy: 0.6055 - val_loss: 0.8021 - val_accuracy: 0.7477\n",
      "Epoch 30/1000\n",
      " 1/34 [..............................] - ETA: 0s - loss: 1.0091 - accuracy: 0.6406\n",
      "Epoch 30: saving model to model/keypoint_classifier\\keypoint_classifier.hdf5\n",
      "34/34 [==============================] - 0s 2ms/step - loss: 1.0665 - accuracy: 0.6111 - val_loss: 0.7910 - val_accuracy: 0.7512\n",
      "Epoch 31/1000\n",
      " 1/34 [..............................] - ETA: 0s - loss: 1.0420 - accuracy: 0.6641\n",
      "Epoch 31: saving model to model/keypoint_classifier\\keypoint_classifier.hdf5\n",
      "34/34 [==============================] - 0s 2ms/step - loss: 1.0551 - accuracy: 0.6163 - val_loss: 0.7778 - val_accuracy: 0.7554\n",
      "Epoch 32/1000\n",
      " 1/34 [..............................] - ETA: 0s - loss: 1.2249 - accuracy: 0.5859\n",
      "Epoch 32: saving model to model/keypoint_classifier\\keypoint_classifier.hdf5\n",
      "34/34 [==============================] - 0s 2ms/step - loss: 1.0427 - accuracy: 0.6174 - val_loss: 0.7651 - val_accuracy: 0.7526\n",
      "Epoch 33/1000\n",
      " 1/34 [..............................] - ETA: 0s - loss: 0.9263 - accuracy: 0.6562\n",
      "Epoch 33: saving model to model/keypoint_classifier\\keypoint_classifier.hdf5\n",
      "34/34 [==============================] - 0s 2ms/step - loss: 1.0323 - accuracy: 0.6174 - val_loss: 0.7533 - val_accuracy: 0.7526\n",
      "Epoch 34/1000\n",
      " 1/34 [..............................] - ETA: 0s - loss: 0.9442 - accuracy: 0.6797\n",
      "Epoch 34: saving model to model/keypoint_classifier\\keypoint_classifier.hdf5\n",
      "34/34 [==============================] - 0s 2ms/step - loss: 1.0285 - accuracy: 0.6221 - val_loss: 0.7420 - val_accuracy: 0.7554\n",
      "Epoch 35/1000\n",
      " 1/34 [..............................] - ETA: 0s - loss: 1.0788 - accuracy: 0.6328\n",
      "Epoch 35: saving model to model/keypoint_classifier\\keypoint_classifier.hdf5\n",
      "34/34 [==============================] - 0s 2ms/step - loss: 1.0197 - accuracy: 0.6235 - val_loss: 0.7332 - val_accuracy: 0.7568\n",
      "Epoch 36/1000\n",
      " 1/34 [..............................] - ETA: 0s - loss: 0.9925 - accuracy: 0.6719\n",
      "Epoch 36: saving model to model/keypoint_classifier\\keypoint_classifier.hdf5\n",
      "34/34 [==============================] - 0s 2ms/step - loss: 1.0162 - accuracy: 0.6216 - val_loss: 0.7329 - val_accuracy: 0.7505\n",
      "Epoch 37/1000\n",
      " 1/34 [..............................] - ETA: 0s - loss: 1.0977 - accuracy: 0.5156\n",
      "Epoch 37: saving model to model/keypoint_classifier\\keypoint_classifier.hdf5\n",
      "34/34 [==============================] - 0s 2ms/step - loss: 1.0098 - accuracy: 0.6298 - val_loss: 0.7226 - val_accuracy: 0.7533\n",
      "Epoch 38/1000\n",
      " 1/34 [..............................] - ETA: 0s - loss: 0.8384 - accuracy: 0.6953\n",
      "Epoch 38: saving model to model/keypoint_classifier\\keypoint_classifier.hdf5\n",
      "34/34 [==============================] - 0s 2ms/step - loss: 0.9928 - accuracy: 0.6329 - val_loss: 0.7128 - val_accuracy: 0.7561\n",
      "Epoch 39/1000\n",
      " 1/34 [..............................] - ETA: 0s - loss: 1.1474 - accuracy: 0.5312\n",
      "Epoch 39: saving model to model/keypoint_classifier\\keypoint_classifier.hdf5\n",
      "34/34 [==============================] - 0s 2ms/step - loss: 1.0002 - accuracy: 0.6294 - val_loss: 0.7081 - val_accuracy: 0.7540\n",
      "Epoch 40/1000\n",
      " 1/34 [..............................] - ETA: 0s - loss: 0.9432 - accuracy: 0.6406\n",
      "Epoch 40: saving model to model/keypoint_classifier\\keypoint_classifier.hdf5\n",
      "34/34 [==============================] - 0s 2ms/step - loss: 1.0045 - accuracy: 0.6277 - val_loss: 0.7102 - val_accuracy: 0.7540\n",
      "Epoch 41/1000\n",
      " 1/34 [..............................] - ETA: 0s - loss: 0.9279 - accuracy: 0.6406\n",
      "Epoch 41: saving model to model/keypoint_classifier\\keypoint_classifier.hdf5\n",
      "34/34 [==============================] - 0s 2ms/step - loss: 0.9968 - accuracy: 0.6284 - val_loss: 0.7018 - val_accuracy: 0.7554\n",
      "Epoch 42/1000\n",
      " 1/34 [..............................] - ETA: 0s - loss: 0.9836 - accuracy: 0.6094\n",
      "Epoch 42: saving model to model/keypoint_classifier\\keypoint_classifier.hdf5\n",
      "34/34 [==============================] - 0s 1ms/step - loss: 0.9952 - accuracy: 0.6294 - val_loss: 0.6932 - val_accuracy: 0.7603\n",
      "Epoch 43/1000\n",
      " 1/34 [..............................] - ETA: 0s - loss: 1.2336 - accuracy: 0.5312\n",
      "Epoch 43: saving model to model/keypoint_classifier\\keypoint_classifier.hdf5\n",
      "34/34 [==============================] - 0s 2ms/step - loss: 0.9933 - accuracy: 0.6368 - val_loss: 0.6890 - val_accuracy: 0.7603\n",
      "Epoch 44/1000\n",
      " 1/34 [..............................] - ETA: 0s - loss: 1.1080 - accuracy: 0.5781\n",
      "Epoch 44: saving model to model/keypoint_classifier\\keypoint_classifier.hdf5\n",
      "34/34 [==============================] - 0s 2ms/step - loss: 0.9844 - accuracy: 0.6424 - val_loss: 0.6814 - val_accuracy: 0.7744\n",
      "Epoch 45/1000\n",
      " 1/34 [..............................] - ETA: 0s - loss: 0.9636 - accuracy: 0.6797\n",
      "Epoch 45: saving model to model/keypoint_classifier\\keypoint_classifier.hdf5\n",
      "34/34 [==============================] - 0s 2ms/step - loss: 0.9773 - accuracy: 0.6387 - val_loss: 0.6794 - val_accuracy: 0.7666\n",
      "Epoch 46/1000\n",
      " 1/34 [..............................] - ETA: 0s - loss: 1.0699 - accuracy: 0.6016\n",
      "Epoch 46: saving model to model/keypoint_classifier\\keypoint_classifier.hdf5\n",
      "34/34 [==============================] - 0s 2ms/step - loss: 0.9832 - accuracy: 0.6415 - val_loss: 0.6728 - val_accuracy: 0.7730\n",
      "Epoch 47/1000\n",
      " 1/34 [..............................] - ETA: 0s - loss: 0.8708 - accuracy: 0.6719\n",
      "Epoch 47: saving model to model/keypoint_classifier\\keypoint_classifier.hdf5\n",
      "34/34 [==============================] - 0s 2ms/step - loss: 0.9774 - accuracy: 0.6401 - val_loss: 0.6701 - val_accuracy: 0.7730\n",
      "Epoch 48/1000\n",
      " 1/34 [..............................] - ETA: 0s - loss: 0.9627 - accuracy: 0.6484\n",
      "Epoch 48: saving model to model/keypoint_classifier\\keypoint_classifier.hdf5\n",
      "34/34 [==============================] - 0s 2ms/step - loss: 0.9724 - accuracy: 0.6410 - val_loss: 0.6713 - val_accuracy: 0.7744\n",
      "Epoch 49/1000\n",
      " 1/34 [..............................] - ETA: 0s - loss: 0.9405 - accuracy: 0.6328\n",
      "Epoch 49: saving model to model/keypoint_classifier\\keypoint_classifier.hdf5\n",
      "34/34 [==============================] - 0s 2ms/step - loss: 0.9727 - accuracy: 0.6322 - val_loss: 0.6687 - val_accuracy: 0.7744\n",
      "Epoch 50/1000\n",
      " 1/34 [..............................] - ETA: 0s - loss: 1.0434 - accuracy: 0.6328\n",
      "Epoch 50: saving model to model/keypoint_classifier\\keypoint_classifier.hdf5\n",
      "34/34 [==============================] - 0s 1ms/step - loss: 0.9541 - accuracy: 0.6478 - val_loss: 0.6617 - val_accuracy: 0.7772\n",
      "Epoch 51/1000\n",
      " 1/34 [..............................] - ETA: 0s - loss: 0.6875 - accuracy: 0.7969\n",
      "Epoch 51: saving model to model/keypoint_classifier\\keypoint_classifier.hdf5\n",
      "34/34 [==============================] - 0s 2ms/step - loss: 0.9385 - accuracy: 0.6572 - val_loss: 0.6489 - val_accuracy: 0.7863\n",
      "Epoch 52/1000\n",
      " 1/34 [..............................] - ETA: 0s - loss: 0.9681 - accuracy: 0.6641\n",
      "Epoch 52: saving model to model/keypoint_classifier\\keypoint_classifier.hdf5\n",
      "34/34 [==============================] - 0s 2ms/step - loss: 0.9496 - accuracy: 0.6555 - val_loss: 0.6512 - val_accuracy: 0.7828\n",
      "Epoch 53/1000\n",
      " 1/34 [..............................] - ETA: 0s - loss: 0.9170 - accuracy: 0.6953\n",
      "Epoch 53: saving model to model/keypoint_classifier\\keypoint_classifier.hdf5\n",
      "34/34 [==============================] - 0s 2ms/step - loss: 0.9367 - accuracy: 0.6530 - val_loss: 0.6442 - val_accuracy: 0.7856\n",
      "Epoch 54/1000\n",
      " 1/34 [..............................] - ETA: 0s - loss: 0.9300 - accuracy: 0.6250\n",
      "Epoch 54: saving model to model/keypoint_classifier\\keypoint_classifier.hdf5\n",
      "34/34 [==============================] - 0s 2ms/step - loss: 0.9292 - accuracy: 0.6614 - val_loss: 0.6417 - val_accuracy: 0.7828\n",
      "Epoch 55/1000\n",
      " 1/34 [..............................] - ETA: 0s - loss: 0.8999 - accuracy: 0.6797\n",
      "Epoch 55: saving model to model/keypoint_classifier\\keypoint_classifier.hdf5\n",
      "34/34 [==============================] - 0s 2ms/step - loss: 0.9434 - accuracy: 0.6539 - val_loss: 0.6425 - val_accuracy: 0.7870\n",
      "Epoch 56/1000\n",
      " 1/34 [..............................] - ETA: 0s - loss: 0.8051 - accuracy: 0.7109\n",
      "Epoch 56: saving model to model/keypoint_classifier\\keypoint_classifier.hdf5\n",
      "34/34 [==============================] - 0s 2ms/step - loss: 0.9325 - accuracy: 0.6541 - val_loss: 0.6382 - val_accuracy: 0.7863\n",
      "Epoch 57/1000\n",
      " 1/34 [..............................] - ETA: 0s - loss: 0.9268 - accuracy: 0.6562\n",
      "Epoch 57: saving model to model/keypoint_classifier\\keypoint_classifier.hdf5\n",
      "34/34 [==============================] - 0s 2ms/step - loss: 0.9290 - accuracy: 0.6579 - val_loss: 0.6334 - val_accuracy: 0.7863\n",
      "Epoch 58/1000\n",
      " 1/34 [..............................] - ETA: 0s - loss: 0.9063 - accuracy: 0.6406\n",
      "Epoch 58: saving model to model/keypoint_classifier\\keypoint_classifier.hdf5\n",
      "34/34 [==============================] - 0s 2ms/step - loss: 0.9385 - accuracy: 0.6527 - val_loss: 0.6287 - val_accuracy: 0.7849\n",
      "Epoch 59/1000\n",
      " 1/34 [..............................] - ETA: 0s - loss: 0.7936 - accuracy: 0.6562\n",
      "Epoch 59: saving model to model/keypoint_classifier\\keypoint_classifier.hdf5\n",
      "34/34 [==============================] - 0s 2ms/step - loss: 0.9248 - accuracy: 0.6604 - val_loss: 0.6250 - val_accuracy: 0.7926\n",
      "Epoch 60/1000\n",
      " 1/34 [..............................] - ETA: 0s - loss: 1.0332 - accuracy: 0.5781\n",
      "Epoch 60: saving model to model/keypoint_classifier\\keypoint_classifier.hdf5\n",
      "34/34 [==============================] - 0s 2ms/step - loss: 0.9243 - accuracy: 0.6520 - val_loss: 0.6237 - val_accuracy: 0.7849\n",
      "Epoch 61/1000\n",
      " 1/34 [..............................] - ETA: 0s - loss: 0.8752 - accuracy: 0.6562\n",
      "Epoch 61: saving model to model/keypoint_classifier\\keypoint_classifier.hdf5\n",
      "34/34 [==============================] - 0s 2ms/step - loss: 0.9247 - accuracy: 0.6520 - val_loss: 0.6221 - val_accuracy: 0.7891\n",
      "Epoch 62/1000\n",
      " 1/34 [..............................] - ETA: 0s - loss: 0.9050 - accuracy: 0.6719\n",
      "Epoch 62: saving model to model/keypoint_classifier\\keypoint_classifier.hdf5\n",
      "34/34 [==============================] - 0s 2ms/step - loss: 0.9290 - accuracy: 0.6548 - val_loss: 0.6194 - val_accuracy: 0.7926\n",
      "Epoch 63/1000\n",
      " 1/34 [..............................] - ETA: 0s - loss: 0.8731 - accuracy: 0.7031\n",
      "Epoch 63: saving model to model/keypoint_classifier\\keypoint_classifier.hdf5\n",
      "34/34 [==============================] - 0s 2ms/step - loss: 0.9213 - accuracy: 0.6614 - val_loss: 0.6171 - val_accuracy: 0.7898\n",
      "Epoch 64/1000\n",
      " 1/34 [..............................] - ETA: 0s - loss: 0.8794 - accuracy: 0.6562\n",
      "Epoch 64: saving model to model/keypoint_classifier\\keypoint_classifier.hdf5\n",
      "34/34 [==============================] - 0s 2ms/step - loss: 0.9256 - accuracy: 0.6565 - val_loss: 0.6175 - val_accuracy: 0.7884\n",
      "Epoch 65/1000\n",
      " 1/34 [..............................] - ETA: 0s - loss: 0.8379 - accuracy: 0.6641\n",
      "Epoch 65: saving model to model/keypoint_classifier\\keypoint_classifier.hdf5\n",
      "34/34 [==============================] - 0s 2ms/step - loss: 0.9128 - accuracy: 0.6607 - val_loss: 0.6120 - val_accuracy: 0.7940\n",
      "Epoch 66/1000\n",
      " 1/34 [..............................] - ETA: 0s - loss: 1.1286 - accuracy: 0.6406\n",
      "Epoch 66: saving model to model/keypoint_classifier\\keypoint_classifier.hdf5\n",
      "34/34 [==============================] - 0s 2ms/step - loss: 0.9116 - accuracy: 0.6546 - val_loss: 0.6078 - val_accuracy: 0.7926\n",
      "Epoch 67/1000\n",
      " 1/34 [..............................] - ETA: 0s - loss: 0.8319 - accuracy: 0.6797\n",
      "Epoch 67: saving model to model/keypoint_classifier\\keypoint_classifier.hdf5\n",
      "34/34 [==============================] - 0s 2ms/step - loss: 0.9161 - accuracy: 0.6621 - val_loss: 0.6119 - val_accuracy: 0.7940\n",
      "Epoch 68/1000\n",
      " 1/34 [..............................] - ETA: 0s - loss: 0.9812 - accuracy: 0.6562\n",
      "Epoch 68: saving model to model/keypoint_classifier\\keypoint_classifier.hdf5\n",
      "34/34 [==============================] - 0s 2ms/step - loss: 0.9004 - accuracy: 0.6674 - val_loss: 0.6026 - val_accuracy: 0.8010\n",
      "Epoch 69/1000\n",
      " 1/34 [..............................] - ETA: 0s - loss: 0.8790 - accuracy: 0.6328\n",
      "Epoch 69: saving model to model/keypoint_classifier\\keypoint_classifier.hdf5\n",
      "34/34 [==============================] - 0s 2ms/step - loss: 0.9230 - accuracy: 0.6541 - val_loss: 0.6089 - val_accuracy: 0.7933\n",
      "Epoch 70/1000\n",
      " 1/34 [..............................] - ETA: 0s - loss: 0.7802 - accuracy: 0.7500\n",
      "Epoch 70: saving model to model/keypoint_classifier\\keypoint_classifier.hdf5\n",
      "34/34 [==============================] - 0s 2ms/step - loss: 0.9002 - accuracy: 0.6700 - val_loss: 0.6014 - val_accuracy: 0.8087\n",
      "Epoch 71/1000\n",
      " 1/34 [..............................] - ETA: 0s - loss: 0.9686 - accuracy: 0.6406\n",
      "Epoch 71: saving model to model/keypoint_classifier\\keypoint_classifier.hdf5\n",
      "34/34 [==============================] - 0s 2ms/step - loss: 0.9065 - accuracy: 0.6796 - val_loss: 0.5966 - val_accuracy: 0.7961\n",
      "Epoch 72/1000\n",
      " 1/34 [..............................] - ETA: 0s - loss: 0.8710 - accuracy: 0.6953\n",
      "Epoch 72: saving model to model/keypoint_classifier\\keypoint_classifier.hdf5\n",
      "34/34 [==============================] - 0s 2ms/step - loss: 0.8872 - accuracy: 0.6754 - val_loss: 0.5933 - val_accuracy: 0.7940\n",
      "Epoch 73/1000\n",
      " 1/34 [..............................] - ETA: 0s - loss: 0.9121 - accuracy: 0.6250\n",
      "Epoch 73: saving model to model/keypoint_classifier\\keypoint_classifier.hdf5\n",
      "34/34 [==============================] - 0s 2ms/step - loss: 0.8910 - accuracy: 0.6717 - val_loss: 0.5906 - val_accuracy: 0.7996\n",
      "Epoch 74/1000\n",
      " 1/34 [..............................] - ETA: 0s - loss: 0.8363 - accuracy: 0.6953\n",
      "Epoch 74: saving model to model/keypoint_classifier\\keypoint_classifier.hdf5\n",
      "34/34 [==============================] - 0s 2ms/step - loss: 0.8815 - accuracy: 0.6868 - val_loss: 0.5889 - val_accuracy: 0.7905\n",
      "Epoch 75/1000\n",
      " 1/34 [..............................] - ETA: 0s - loss: 0.9045 - accuracy: 0.6562\n",
      "Epoch 75: saving model to model/keypoint_classifier\\keypoint_classifier.hdf5\n",
      "34/34 [==============================] - 0s 2ms/step - loss: 0.8893 - accuracy: 0.6672 - val_loss: 0.5856 - val_accuracy: 0.7996\n",
      "Epoch 76/1000\n",
      " 1/34 [..............................] - ETA: 0s - loss: 0.8056 - accuracy: 0.7422\n",
      "Epoch 76: saving model to model/keypoint_classifier\\keypoint_classifier.hdf5\n",
      "34/34 [==============================] - 0s 2ms/step - loss: 0.8861 - accuracy: 0.6782 - val_loss: 0.5799 - val_accuracy: 0.8073\n",
      "Epoch 77/1000\n",
      " 1/34 [..............................] - ETA: 0s - loss: 0.9071 - accuracy: 0.6719\n",
      "Epoch 77: saving model to model/keypoint_classifier\\keypoint_classifier.hdf5\n",
      "34/34 [==============================] - 0s 2ms/step - loss: 0.8985 - accuracy: 0.6714 - val_loss: 0.5817 - val_accuracy: 0.8066\n",
      "Epoch 78/1000\n",
      " 1/34 [..............................] - ETA: 0s - loss: 0.7910 - accuracy: 0.6797\n",
      "Epoch 78: saving model to model/keypoint_classifier\\keypoint_classifier.hdf5\n",
      "34/34 [==============================] - 0s 1ms/step - loss: 0.8751 - accuracy: 0.6742 - val_loss: 0.5822 - val_accuracy: 0.8059\n",
      "Epoch 79/1000\n",
      " 1/34 [..............................] - ETA: 0s - loss: 0.8115 - accuracy: 0.7109\n",
      "Epoch 79: saving model to model/keypoint_classifier\\keypoint_classifier.hdf5\n",
      "34/34 [==============================] - 0s 2ms/step - loss: 0.8897 - accuracy: 0.6710 - val_loss: 0.5766 - val_accuracy: 0.8031\n",
      "Epoch 80/1000\n",
      " 1/34 [..............................] - ETA: 0s - loss: 0.9744 - accuracy: 0.6484\n",
      "Epoch 80: saving model to model/keypoint_classifier\\keypoint_classifier.hdf5\n",
      "34/34 [==============================] - 0s 2ms/step - loss: 0.9056 - accuracy: 0.6805 - val_loss: 0.5829 - val_accuracy: 0.7996\n",
      "Epoch 81/1000\n",
      " 1/34 [..............................] - ETA: 0s - loss: 0.7915 - accuracy: 0.7188\n",
      "Epoch 81: saving model to model/keypoint_classifier\\keypoint_classifier.hdf5\n",
      "34/34 [==============================] - 0s 2ms/step - loss: 0.8791 - accuracy: 0.6787 - val_loss: 0.5741 - val_accuracy: 0.8115\n",
      "Epoch 82/1000\n",
      " 1/34 [..............................] - ETA: 0s - loss: 0.9007 - accuracy: 0.6484\n",
      "Epoch 82: saving model to model/keypoint_classifier\\keypoint_classifier.hdf5\n",
      "34/34 [==============================] - 0s 2ms/step - loss: 0.8742 - accuracy: 0.6742 - val_loss: 0.5702 - val_accuracy: 0.8087\n",
      "Epoch 83/1000\n",
      " 1/34 [..............................] - ETA: 0s - loss: 1.0164 - accuracy: 0.6641\n",
      "Epoch 83: saving model to model/keypoint_classifier\\keypoint_classifier.hdf5\n",
      "34/34 [==============================] - 0s 2ms/step - loss: 0.8723 - accuracy: 0.6880 - val_loss: 0.5681 - val_accuracy: 0.8199\n",
      "Epoch 84/1000\n",
      " 1/34 [..............................] - ETA: 0s - loss: 0.7540 - accuracy: 0.7266\n",
      "Epoch 84: saving model to model/keypoint_classifier\\keypoint_classifier.hdf5\n",
      "34/34 [==============================] - 0s 2ms/step - loss: 0.8841 - accuracy: 0.6826 - val_loss: 0.5671 - val_accuracy: 0.8178\n",
      "Epoch 85/1000\n",
      " 1/34 [..............................] - ETA: 0s - loss: 0.8617 - accuracy: 0.6406\n",
      "Epoch 85: saving model to model/keypoint_classifier\\keypoint_classifier.hdf5\n",
      "34/34 [==============================] - 0s 2ms/step - loss: 0.8623 - accuracy: 0.6840 - val_loss: 0.5629 - val_accuracy: 0.8122\n",
      "Epoch 86/1000\n",
      " 1/34 [..............................] - ETA: 0s - loss: 0.8384 - accuracy: 0.7109\n",
      "Epoch 86: saving model to model/keypoint_classifier\\keypoint_classifier.hdf5\n",
      "34/34 [==============================] - 0s 2ms/step - loss: 0.8982 - accuracy: 0.6667 - val_loss: 0.5654 - val_accuracy: 0.8311\n",
      "Epoch 87/1000\n",
      " 1/34 [..............................] - ETA: 0s - loss: 0.8533 - accuracy: 0.6484\n",
      "Epoch 87: saving model to model/keypoint_classifier\\keypoint_classifier.hdf5\n",
      "34/34 [==============================] - 0s 2ms/step - loss: 0.8664 - accuracy: 0.6812 - val_loss: 0.5668 - val_accuracy: 0.8241\n",
      "Epoch 88/1000\n",
      " 1/34 [..............................] - ETA: 0s - loss: 0.8473 - accuracy: 0.6875\n",
      "Epoch 88: saving model to model/keypoint_classifier\\keypoint_classifier.hdf5\n",
      "34/34 [==============================] - 0s 2ms/step - loss: 0.8945 - accuracy: 0.6719 - val_loss: 0.5637 - val_accuracy: 0.8199\n",
      "Epoch 89/1000\n",
      " 1/34 [..............................] - ETA: 0s - loss: 0.8288 - accuracy: 0.7188\n",
      "Epoch 89: saving model to model/keypoint_classifier\\keypoint_classifier.hdf5\n",
      "34/34 [==============================] - 0s 2ms/step - loss: 0.8902 - accuracy: 0.6724 - val_loss: 0.5631 - val_accuracy: 0.8157\n",
      "Epoch 90/1000\n",
      " 1/34 [..............................] - ETA: 0s - loss: 0.8648 - accuracy: 0.6953\n",
      "Epoch 90: saving model to model/keypoint_classifier\\keypoint_classifier.hdf5\n",
      "34/34 [==============================] - 0s 2ms/step - loss: 0.8804 - accuracy: 0.6756 - val_loss: 0.5585 - val_accuracy: 0.8304\n",
      "Epoch 91/1000\n",
      " 1/34 [..............................] - ETA: 0s - loss: 0.7314 - accuracy: 0.7812\n",
      "Epoch 91: saving model to model/keypoint_classifier\\keypoint_classifier.hdf5\n",
      "34/34 [==============================] - 0s 2ms/step - loss: 0.8792 - accuracy: 0.6763 - val_loss: 0.5597 - val_accuracy: 0.8486\n",
      "Epoch 92/1000\n",
      " 1/34 [..............................] - ETA: 0s - loss: 0.9048 - accuracy: 0.6328\n",
      "Epoch 92: saving model to model/keypoint_classifier\\keypoint_classifier.hdf5\n",
      "34/34 [==============================] - 0s 2ms/step - loss: 0.8794 - accuracy: 0.6798 - val_loss: 0.5589 - val_accuracy: 0.8381\n",
      "Epoch 93/1000\n",
      " 1/34 [..............................] - ETA: 0s - loss: 0.7979 - accuracy: 0.6719\n",
      "Epoch 93: saving model to model/keypoint_classifier\\keypoint_classifier.hdf5\n",
      "34/34 [==============================] - 0s 2ms/step - loss: 0.8697 - accuracy: 0.6896 - val_loss: 0.5565 - val_accuracy: 0.8283\n",
      "Epoch 94/1000\n",
      " 1/34 [..............................] - ETA: 0s - loss: 1.0086 - accuracy: 0.7109\n",
      "Epoch 94: saving model to model/keypoint_classifier\\keypoint_classifier.hdf5\n",
      "34/34 [==============================] - 0s 2ms/step - loss: 0.8412 - accuracy: 0.6957 - val_loss: 0.5542 - val_accuracy: 0.8360\n",
      "Epoch 95/1000\n",
      " 1/34 [..............................] - ETA: 0s - loss: 0.9492 - accuracy: 0.6641\n",
      "Epoch 95: saving model to model/keypoint_classifier\\keypoint_classifier.hdf5\n",
      "34/34 [==============================] - 0s 2ms/step - loss: 0.8582 - accuracy: 0.6903 - val_loss: 0.5469 - val_accuracy: 0.8493\n",
      "Epoch 96/1000\n",
      " 1/34 [..............................] - ETA: 0s - loss: 0.8329 - accuracy: 0.7266\n",
      "Epoch 96: saving model to model/keypoint_classifier\\keypoint_classifier.hdf5\n",
      "34/34 [==============================] - 0s 2ms/step - loss: 0.8511 - accuracy: 0.6920 - val_loss: 0.5479 - val_accuracy: 0.8255\n",
      "Epoch 97/1000\n",
      " 1/34 [..............................] - ETA: 0s - loss: 0.7711 - accuracy: 0.7188\n",
      "Epoch 97: saving model to model/keypoint_classifier\\keypoint_classifier.hdf5\n",
      "34/34 [==============================] - 0s 2ms/step - loss: 0.8260 - accuracy: 0.7009 - val_loss: 0.5437 - val_accuracy: 0.8283\n",
      "Epoch 98/1000\n",
      " 1/34 [..............................] - ETA: 0s - loss: 0.7676 - accuracy: 0.7188\n",
      "Epoch 98: saving model to model/keypoint_classifier\\keypoint_classifier.hdf5\n",
      "34/34 [==============================] - 0s 2ms/step - loss: 0.8512 - accuracy: 0.6873 - val_loss: 0.5403 - val_accuracy: 0.8332\n",
      "Epoch 99/1000\n",
      " 1/34 [..............................] - ETA: 0s - loss: 0.9940 - accuracy: 0.6562\n",
      "Epoch 99: saving model to model/keypoint_classifier\\keypoint_classifier.hdf5\n",
      "34/34 [==============================] - 0s 2ms/step - loss: 0.8548 - accuracy: 0.6831 - val_loss: 0.5363 - val_accuracy: 0.8570\n",
      "Epoch 100/1000\n",
      " 1/34 [..............................] - ETA: 0s - loss: 0.8493 - accuracy: 0.6719\n",
      "Epoch 100: saving model to model/keypoint_classifier\\keypoint_classifier.hdf5\n",
      "34/34 [==============================] - 0s 2ms/step - loss: 0.8550 - accuracy: 0.6948 - val_loss: 0.5368 - val_accuracy: 0.8409\n",
      "Epoch 101/1000\n",
      " 1/34 [..............................] - ETA: 0s - loss: 0.8738 - accuracy: 0.6562\n",
      "Epoch 101: saving model to model/keypoint_classifier\\keypoint_classifier.hdf5\n",
      "34/34 [==============================] - 0s 2ms/step - loss: 0.8608 - accuracy: 0.6922 - val_loss: 0.5435 - val_accuracy: 0.8451\n",
      "Epoch 102/1000\n",
      " 1/34 [..............................] - ETA: 0s - loss: 0.8120 - accuracy: 0.7031\n",
      "Epoch 102: saving model to model/keypoint_classifier\\keypoint_classifier.hdf5\n",
      "34/34 [==============================] - 0s 2ms/step - loss: 0.8544 - accuracy: 0.6960 - val_loss: 0.5406 - val_accuracy: 0.8521\n",
      "Epoch 103/1000\n",
      " 1/34 [..............................] - ETA: 0s - loss: 0.7974 - accuracy: 0.7344\n",
      "Epoch 103: saving model to model/keypoint_classifier\\keypoint_classifier.hdf5\n",
      "34/34 [==============================] - 0s 2ms/step - loss: 0.8493 - accuracy: 0.6875 - val_loss: 0.5326 - val_accuracy: 0.8486\n",
      "Epoch 104/1000\n",
      " 1/34 [..............................] - ETA: 0s - loss: 0.7053 - accuracy: 0.7422\n",
      "Epoch 104: saving model to model/keypoint_classifier\\keypoint_classifier.hdf5\n",
      "34/34 [==============================] - 0s 2ms/step - loss: 0.8328 - accuracy: 0.6910 - val_loss: 0.5332 - val_accuracy: 0.8633\n",
      "Epoch 105/1000\n",
      " 1/34 [..............................] - ETA: 0s - loss: 0.7985 - accuracy: 0.6797\n",
      "Epoch 105: saving model to model/keypoint_classifier\\keypoint_classifier.hdf5\n",
      "34/34 [==============================] - 0s 2ms/step - loss: 0.8402 - accuracy: 0.6894 - val_loss: 0.5353 - val_accuracy: 0.8395\n",
      "Epoch 106/1000\n",
      " 1/34 [..............................] - ETA: 0s - loss: 0.8852 - accuracy: 0.6875\n",
      "Epoch 106: saving model to model/keypoint_classifier\\keypoint_classifier.hdf5\n",
      "34/34 [==============================] - 0s 2ms/step - loss: 0.8338 - accuracy: 0.7020 - val_loss: 0.5223 - val_accuracy: 0.8451\n",
      "Epoch 107/1000\n",
      " 1/34 [..............................] - ETA: 0s - loss: 0.8423 - accuracy: 0.6875\n",
      "Epoch 107: saving model to model/keypoint_classifier\\keypoint_classifier.hdf5\n",
      "34/34 [==============================] - 0s 2ms/step - loss: 0.8579 - accuracy: 0.6838 - val_loss: 0.5334 - val_accuracy: 0.8584\n",
      "Epoch 108/1000\n",
      " 1/34 [..............................] - ETA: 0s - loss: 0.8323 - accuracy: 0.7109\n",
      "Epoch 108: saving model to model/keypoint_classifier\\keypoint_classifier.hdf5\n",
      "34/34 [==============================] - 0s 2ms/step - loss: 0.8508 - accuracy: 0.6941 - val_loss: 0.5318 - val_accuracy: 0.8388\n",
      "Epoch 109/1000\n",
      " 1/34 [..............................] - ETA: 0s - loss: 1.0054 - accuracy: 0.6250\n",
      "Epoch 109: saving model to model/keypoint_classifier\\keypoint_classifier.hdf5\n",
      "34/34 [==============================] - 0s 2ms/step - loss: 0.8414 - accuracy: 0.6974 - val_loss: 0.5304 - val_accuracy: 0.8619\n",
      "Epoch 110/1000\n",
      " 1/34 [..............................] - ETA: 0s - loss: 0.9067 - accuracy: 0.6797\n",
      "Epoch 110: saving model to model/keypoint_classifier\\keypoint_classifier.hdf5\n",
      "34/34 [==============================] - 0s 2ms/step - loss: 0.8193 - accuracy: 0.7046 - val_loss: 0.5191 - val_accuracy: 0.8451\n",
      "Epoch 111/1000\n",
      " 1/34 [..............................] - ETA: 0s - loss: 0.8084 - accuracy: 0.7266\n",
      "Epoch 111: saving model to model/keypoint_classifier\\keypoint_classifier.hdf5\n",
      "34/34 [==============================] - 0s 2ms/step - loss: 0.8475 - accuracy: 0.6922 - val_loss: 0.5324 - val_accuracy: 0.8549\n",
      "Epoch 112/1000\n",
      " 1/34 [..............................] - ETA: 0s - loss: 0.9253 - accuracy: 0.7188\n",
      "Epoch 112: saving model to model/keypoint_classifier\\keypoint_classifier.hdf5\n",
      "34/34 [==============================] - 0s 2ms/step - loss: 0.8470 - accuracy: 0.6969 - val_loss: 0.5233 - val_accuracy: 0.8563\n",
      "Epoch 113/1000\n",
      " 1/34 [..............................] - ETA: 0s - loss: 0.7847 - accuracy: 0.7422\n",
      "Epoch 113: saving model to model/keypoint_classifier\\keypoint_classifier.hdf5\n",
      "34/34 [==============================] - 0s 2ms/step - loss: 0.8476 - accuracy: 0.6929 - val_loss: 0.5242 - val_accuracy: 0.8542\n",
      "Epoch 114/1000\n",
      " 1/34 [..............................] - ETA: 0s - loss: 0.7990 - accuracy: 0.6797\n",
      "Epoch 114: saving model to model/keypoint_classifier\\keypoint_classifier.hdf5\n",
      "34/34 [==============================] - 0s 2ms/step - loss: 0.8269 - accuracy: 0.7018 - val_loss: 0.5169 - val_accuracy: 0.8423\n",
      "Epoch 115/1000\n",
      " 1/34 [..............................] - ETA: 0s - loss: 0.7370 - accuracy: 0.7188\n",
      "Epoch 115: saving model to model/keypoint_classifier\\keypoint_classifier.hdf5\n",
      "34/34 [==============================] - 0s 2ms/step - loss: 0.8318 - accuracy: 0.6908 - val_loss: 0.5226 - val_accuracy: 0.8619\n",
      "Epoch 116/1000\n",
      " 1/34 [..............................] - ETA: 0s - loss: 0.9508 - accuracy: 0.6719\n",
      "Epoch 116: saving model to model/keypoint_classifier\\keypoint_classifier.hdf5\n",
      "34/34 [==============================] - 0s 2ms/step - loss: 0.8410 - accuracy: 0.6927 - val_loss: 0.5193 - val_accuracy: 0.8542\n",
      "Epoch 117/1000\n",
      " 1/34 [..............................] - ETA: 0s - loss: 0.8698 - accuracy: 0.6641\n",
      "Epoch 117: saving model to model/keypoint_classifier\\keypoint_classifier.hdf5\n",
      "34/34 [==============================] - 0s 2ms/step - loss: 0.8333 - accuracy: 0.7025 - val_loss: 0.5173 - val_accuracy: 0.8570\n",
      "Epoch 118/1000\n",
      " 1/34 [..............................] - ETA: 0s - loss: 0.8378 - accuracy: 0.7109\n",
      "Epoch 118: saving model to model/keypoint_classifier\\keypoint_classifier.hdf5\n",
      "34/34 [==============================] - 0s 2ms/step - loss: 0.8677 - accuracy: 0.6824 - val_loss: 0.5249 - val_accuracy: 0.8479\n",
      "Epoch 119/1000\n",
      " 1/34 [..............................] - ETA: 0s - loss: 0.9328 - accuracy: 0.6406\n",
      "Epoch 119: saving model to model/keypoint_classifier\\keypoint_classifier.hdf5\n",
      "34/34 [==============================] - 0s 2ms/step - loss: 0.8196 - accuracy: 0.6992 - val_loss: 0.5151 - val_accuracy: 0.8563\n",
      "Epoch 120/1000\n",
      " 1/34 [..............................] - ETA: 0s - loss: 0.6641 - accuracy: 0.7500\n",
      "Epoch 120: saving model to model/keypoint_classifier\\keypoint_classifier.hdf5\n",
      "34/34 [==============================] - 0s 2ms/step - loss: 0.8443 - accuracy: 0.6887 - val_loss: 0.5104 - val_accuracy: 0.8458\n",
      "Epoch 121/1000\n",
      " 1/34 [..............................] - ETA: 0s - loss: 0.9943 - accuracy: 0.6016\n",
      "Epoch 121: saving model to model/keypoint_classifier\\keypoint_classifier.hdf5\n",
      "34/34 [==============================] - 0s 2ms/step - loss: 0.8314 - accuracy: 0.6978 - val_loss: 0.5192 - val_accuracy: 0.8549\n",
      "Epoch 122/1000\n",
      " 1/34 [..............................] - ETA: 0s - loss: 0.8360 - accuracy: 0.6797\n",
      "Epoch 122: saving model to model/keypoint_classifier\\keypoint_classifier.hdf5\n",
      "34/34 [==============================] - 0s 2ms/step - loss: 0.8384 - accuracy: 0.7004 - val_loss: 0.5108 - val_accuracy: 0.8577\n",
      "Epoch 123/1000\n",
      " 1/34 [..............................] - ETA: 0s - loss: 0.8458 - accuracy: 0.7188\n",
      "Epoch 123: saving model to model/keypoint_classifier\\keypoint_classifier.hdf5\n",
      "34/34 [==============================] - 0s 2ms/step - loss: 0.8193 - accuracy: 0.6964 - val_loss: 0.5096 - val_accuracy: 0.8542\n",
      "Epoch 124/1000\n",
      " 1/34 [..............................] - ETA: 0s - loss: 0.8434 - accuracy: 0.6719\n",
      "Epoch 124: saving model to model/keypoint_classifier\\keypoint_classifier.hdf5\n",
      "34/34 [==============================] - 0s 2ms/step - loss: 0.8088 - accuracy: 0.7095 - val_loss: 0.5087 - val_accuracy: 0.8570\n",
      "Epoch 125/1000\n",
      " 1/34 [..............................] - ETA: 0s - loss: 0.8707 - accuracy: 0.6562\n",
      "Epoch 125: saving model to model/keypoint_classifier\\keypoint_classifier.hdf5\n",
      "34/34 [==============================] - 0s 2ms/step - loss: 0.8270 - accuracy: 0.6983 - val_loss: 0.5086 - val_accuracy: 0.8633\n",
      "Epoch 126/1000\n",
      " 1/34 [..............................] - ETA: 0s - loss: 0.7227 - accuracy: 0.7188\n",
      "Epoch 126: saving model to model/keypoint_classifier\\keypoint_classifier.hdf5\n",
      "34/34 [==============================] - 0s 2ms/step - loss: 0.8376 - accuracy: 0.7011 - val_loss: 0.5119 - val_accuracy: 0.8619\n",
      "Epoch 127/1000\n",
      " 1/34 [..............................] - ETA: 0s - loss: 0.8271 - accuracy: 0.6719\n",
      "Epoch 127: saving model to model/keypoint_classifier\\keypoint_classifier.hdf5\n",
      "34/34 [==============================] - 0s 2ms/step - loss: 0.8221 - accuracy: 0.6939 - val_loss: 0.5090 - val_accuracy: 0.8612\n",
      "Epoch 128/1000\n",
      " 1/34 [..............................] - ETA: 0s - loss: 0.8125 - accuracy: 0.7031\n",
      "Epoch 128: saving model to model/keypoint_classifier\\keypoint_classifier.hdf5\n",
      "34/34 [==============================] - 0s 2ms/step - loss: 0.8051 - accuracy: 0.7107 - val_loss: 0.5016 - val_accuracy: 0.8633\n",
      "Epoch 129/1000\n",
      " 1/34 [..............................] - ETA: 0s - loss: 0.9378 - accuracy: 0.6328\n",
      "Epoch 129: saving model to model/keypoint_classifier\\keypoint_classifier.hdf5\n",
      "34/34 [==============================] - 0s 2ms/step - loss: 0.8105 - accuracy: 0.7009 - val_loss: 0.5018 - val_accuracy: 0.8633\n",
      "Epoch 130/1000\n",
      " 1/34 [..............................] - ETA: 0s - loss: 0.7632 - accuracy: 0.7109\n",
      "Epoch 130: saving model to model/keypoint_classifier\\keypoint_classifier.hdf5\n",
      "34/34 [==============================] - 0s 1ms/step - loss: 0.8360 - accuracy: 0.7053 - val_loss: 0.5111 - val_accuracy: 0.8669\n",
      "Epoch 131/1000\n",
      " 1/34 [..............................] - ETA: 0s - loss: 0.6830 - accuracy: 0.7266\n",
      "Epoch 131: saving model to model/keypoint_classifier\\keypoint_classifier.hdf5\n",
      "34/34 [==============================] - 0s 2ms/step - loss: 0.8079 - accuracy: 0.7016 - val_loss: 0.5008 - val_accuracy: 0.8633\n",
      "Epoch 132/1000\n",
      " 1/34 [..............................] - ETA: 0s - loss: 0.8658 - accuracy: 0.6875\n",
      "Epoch 132: saving model to model/keypoint_classifier\\keypoint_classifier.hdf5\n",
      "34/34 [==============================] - 0s 2ms/step - loss: 0.8136 - accuracy: 0.7116 - val_loss: 0.5022 - val_accuracy: 0.8690\n",
      "Epoch 133/1000\n",
      " 1/34 [..............................] - ETA: 0s - loss: 0.7743 - accuracy: 0.7109\n",
      "Epoch 133: saving model to model/keypoint_classifier\\keypoint_classifier.hdf5\n",
      "34/34 [==============================] - 0s 2ms/step - loss: 0.8178 - accuracy: 0.7006 - val_loss: 0.5017 - val_accuracy: 0.8676\n",
      "Epoch 134/1000\n",
      " 1/34 [..............................] - ETA: 0s - loss: 0.8292 - accuracy: 0.7422\n",
      "Epoch 134: saving model to model/keypoint_classifier\\keypoint_classifier.hdf5\n",
      "34/34 [==============================] - 0s 2ms/step - loss: 0.8222 - accuracy: 0.7062 - val_loss: 0.5023 - val_accuracy: 0.8711\n",
      "Epoch 135/1000\n",
      " 1/34 [..............................] - ETA: 0s - loss: 0.9341 - accuracy: 0.7109\n",
      "Epoch 135: saving model to model/keypoint_classifier\\keypoint_classifier.hdf5\n",
      "34/34 [==============================] - 0s 2ms/step - loss: 0.8219 - accuracy: 0.7016 - val_loss: 0.5020 - val_accuracy: 0.8626\n",
      "Epoch 136/1000\n",
      " 1/34 [..............................] - ETA: 0s - loss: 0.8407 - accuracy: 0.6641\n",
      "Epoch 136: saving model to model/keypoint_classifier\\keypoint_classifier.hdf5\n",
      "34/34 [==============================] - 0s 2ms/step - loss: 0.8288 - accuracy: 0.6962 - val_loss: 0.4997 - val_accuracy: 0.8676\n",
      "Epoch 137/1000\n",
      " 1/34 [..............................] - ETA: 0s - loss: 0.7139 - accuracy: 0.7266\n",
      "Epoch 137: saving model to model/keypoint_classifier\\keypoint_classifier.hdf5\n",
      "34/34 [==============================] - 0s 2ms/step - loss: 0.8336 - accuracy: 0.6971 - val_loss: 0.5135 - val_accuracy: 0.8549\n",
      "Epoch 138/1000\n",
      " 1/34 [..............................] - ETA: 0s - loss: 0.8170 - accuracy: 0.7109\n",
      "Epoch 138: saving model to model/keypoint_classifier\\keypoint_classifier.hdf5\n",
      "34/34 [==============================] - 0s 2ms/step - loss: 0.8089 - accuracy: 0.7053 - val_loss: 0.5017 - val_accuracy: 0.8676\n",
      "Epoch 139/1000\n",
      " 1/34 [..............................] - ETA: 0s - loss: 0.8496 - accuracy: 0.7344\n",
      "Epoch 139: saving model to model/keypoint_classifier\\keypoint_classifier.hdf5\n",
      "34/34 [==============================] - 0s 2ms/step - loss: 0.8253 - accuracy: 0.7018 - val_loss: 0.5035 - val_accuracy: 0.8662\n",
      "Epoch 140/1000\n",
      " 1/34 [..............................] - ETA: 0s - loss: 0.7298 - accuracy: 0.6797\n",
      "Epoch 140: saving model to model/keypoint_classifier\\keypoint_classifier.hdf5\n",
      "34/34 [==============================] - 0s 2ms/step - loss: 0.8068 - accuracy: 0.7037 - val_loss: 0.4963 - val_accuracy: 0.8718\n",
      "Epoch 141/1000\n",
      " 1/34 [..............................] - ETA: 0s - loss: 0.8846 - accuracy: 0.7188\n",
      "Epoch 141: saving model to model/keypoint_classifier\\keypoint_classifier.hdf5\n",
      "34/34 [==============================] - 0s 2ms/step - loss: 0.8043 - accuracy: 0.7111 - val_loss: 0.4912 - val_accuracy: 0.8683\n",
      "Epoch 142/1000\n",
      " 1/34 [..............................] - ETA: 0s - loss: 0.8527 - accuracy: 0.7344\n",
      "Epoch 142: saving model to model/keypoint_classifier\\keypoint_classifier.hdf5\n",
      "34/34 [==============================] - 0s 2ms/step - loss: 0.8141 - accuracy: 0.6985 - val_loss: 0.5051 - val_accuracy: 0.8626\n",
      "Epoch 143/1000\n",
      " 1/34 [..............................] - ETA: 0s - loss: 0.7736 - accuracy: 0.7344\n",
      "Epoch 143: saving model to model/keypoint_classifier\\keypoint_classifier.hdf5\n",
      "34/34 [==============================] - 0s 2ms/step - loss: 0.8066 - accuracy: 0.7109 - val_loss: 0.4939 - val_accuracy: 0.8676\n",
      "Epoch 144/1000\n",
      " 1/34 [..............................] - ETA: 0s - loss: 0.6879 - accuracy: 0.7656\n",
      "Epoch 144: saving model to model/keypoint_classifier\\keypoint_classifier.hdf5\n",
      "34/34 [==============================] - 0s 2ms/step - loss: 0.7901 - accuracy: 0.7097 - val_loss: 0.4944 - val_accuracy: 0.8690\n",
      "Epoch 145/1000\n",
      " 1/34 [..............................] - ETA: 0s - loss: 0.7747 - accuracy: 0.6953\n",
      "Epoch 145: saving model to model/keypoint_classifier\\keypoint_classifier.hdf5\n",
      "34/34 [==============================] - 0s 2ms/step - loss: 0.8057 - accuracy: 0.7116 - val_loss: 0.4901 - val_accuracy: 0.8577\n",
      "Epoch 146/1000\n",
      " 1/34 [..............................] - ETA: 0s - loss: 0.7769 - accuracy: 0.7422\n",
      "Epoch 146: saving model to model/keypoint_classifier\\keypoint_classifier.hdf5\n",
      "34/34 [==============================] - 0s 2ms/step - loss: 0.8084 - accuracy: 0.7097 - val_loss: 0.4851 - val_accuracy: 0.8711\n",
      "Epoch 147/1000\n",
      " 1/34 [..............................] - ETA: 0s - loss: 0.7591 - accuracy: 0.7344\n",
      "Epoch 147: saving model to model/keypoint_classifier\\keypoint_classifier.hdf5\n",
      "34/34 [==============================] - 0s 2ms/step - loss: 0.8100 - accuracy: 0.7037 - val_loss: 0.4799 - val_accuracy: 0.8683\n",
      "Epoch 148/1000\n",
      " 1/34 [..............................] - ETA: 0s - loss: 0.7961 - accuracy: 0.7109\n",
      "Epoch 148: saving model to model/keypoint_classifier\\keypoint_classifier.hdf5\n",
      "34/34 [==============================] - 0s 2ms/step - loss: 0.7895 - accuracy: 0.7093 - val_loss: 0.4737 - val_accuracy: 0.8767\n",
      "Epoch 149/1000\n",
      " 1/34 [..............................] - ETA: 0s - loss: 0.8991 - accuracy: 0.6562\n",
      "Epoch 149: saving model to model/keypoint_classifier\\keypoint_classifier.hdf5\n",
      "34/34 [==============================] - 0s 2ms/step - loss: 0.7999 - accuracy: 0.7193 - val_loss: 0.4872 - val_accuracy: 0.8697\n",
      "Epoch 150/1000\n",
      " 1/34 [..............................] - ETA: 0s - loss: 0.7557 - accuracy: 0.6562\n",
      "Epoch 150: saving model to model/keypoint_classifier\\keypoint_classifier.hdf5\n",
      "34/34 [==============================] - 0s 2ms/step - loss: 0.8074 - accuracy: 0.7102 - val_loss: 0.4899 - val_accuracy: 0.8683\n",
      "Epoch 151/1000\n",
      " 1/34 [..............................] - ETA: 0s - loss: 0.5964 - accuracy: 0.8047\n",
      "Epoch 151: saving model to model/keypoint_classifier\\keypoint_classifier.hdf5\n",
      "34/34 [==============================] - 0s 2ms/step - loss: 0.8100 - accuracy: 0.7032 - val_loss: 0.4867 - val_accuracy: 0.8683\n",
      "Epoch 152/1000\n",
      " 1/34 [..............................] - ETA: 0s - loss: 0.7999 - accuracy: 0.7031\n",
      "Epoch 152: saving model to model/keypoint_classifier\\keypoint_classifier.hdf5\n",
      "34/34 [==============================] - 0s 2ms/step - loss: 0.8073 - accuracy: 0.7062 - val_loss: 0.4888 - val_accuracy: 0.8626\n",
      "Epoch 153/1000\n",
      " 1/34 [..............................] - ETA: 0s - loss: 0.9330 - accuracy: 0.6484\n",
      "Epoch 153: saving model to model/keypoint_classifier\\keypoint_classifier.hdf5\n",
      "34/34 [==============================] - 0s 2ms/step - loss: 0.8182 - accuracy: 0.6983 - val_loss: 0.4787 - val_accuracy: 0.8718\n",
      "Epoch 154/1000\n",
      " 1/34 [..............................] - ETA: 0s - loss: 0.7834 - accuracy: 0.6797\n",
      "Epoch 154: saving model to model/keypoint_classifier\\keypoint_classifier.hdf5\n",
      "34/34 [==============================] - 0s 2ms/step - loss: 0.8198 - accuracy: 0.7079 - val_loss: 0.4897 - val_accuracy: 0.8725\n",
      "Epoch 155/1000\n",
      " 1/34 [..............................] - ETA: 0s - loss: 0.7706 - accuracy: 0.7656\n",
      "Epoch 155: saving model to model/keypoint_classifier\\keypoint_classifier.hdf5\n",
      "34/34 [==============================] - 0s 2ms/step - loss: 0.8160 - accuracy: 0.7060 - val_loss: 0.4929 - val_accuracy: 0.8626\n",
      "Epoch 156/1000\n",
      " 1/34 [..............................] - ETA: 0s - loss: 0.6927 - accuracy: 0.7656\n",
      "Epoch 156: saving model to model/keypoint_classifier\\keypoint_classifier.hdf5\n",
      "34/34 [==============================] - 0s 2ms/step - loss: 0.8119 - accuracy: 0.7093 - val_loss: 0.4839 - val_accuracy: 0.8641\n",
      "Epoch 157/1000\n",
      " 1/34 [..............................] - ETA: 0s - loss: 0.7735 - accuracy: 0.7500\n",
      "Epoch 157: saving model to model/keypoint_classifier\\keypoint_classifier.hdf5\n",
      "34/34 [==============================] - 0s 2ms/step - loss: 0.8236 - accuracy: 0.7025 - val_loss: 0.4884 - val_accuracy: 0.8662\n",
      "Epoch 158/1000\n",
      " 1/34 [..............................] - ETA: 0s - loss: 0.8526 - accuracy: 0.7266\n",
      "Epoch 158: saving model to model/keypoint_classifier\\keypoint_classifier.hdf5\n",
      "34/34 [==============================] - 0s 2ms/step - loss: 0.8099 - accuracy: 0.7147 - val_loss: 0.4921 - val_accuracy: 0.8662\n",
      "Epoch 159/1000\n",
      " 1/34 [..............................] - ETA: 0s - loss: 0.8627 - accuracy: 0.7188\n",
      "Epoch 159: saving model to model/keypoint_classifier\\keypoint_classifier.hdf5\n",
      "34/34 [==============================] - 0s 2ms/step - loss: 0.8041 - accuracy: 0.7034 - val_loss: 0.4826 - val_accuracy: 0.8612\n",
      "Epoch 160/1000\n",
      " 1/34 [..............................] - ETA: 0s - loss: 0.8288 - accuracy: 0.6719\n",
      "Epoch 160: saving model to model/keypoint_classifier\\keypoint_classifier.hdf5\n",
      "34/34 [==============================] - 0s 2ms/step - loss: 0.8067 - accuracy: 0.7076 - val_loss: 0.4835 - val_accuracy: 0.8655\n",
      "Epoch 161/1000\n",
      " 1/34 [..............................] - ETA: 0s - loss: 0.6981 - accuracy: 0.7656\n",
      "Epoch 161: saving model to model/keypoint_classifier\\keypoint_classifier.hdf5\n",
      "34/34 [==============================] - 0s 2ms/step - loss: 0.7914 - accuracy: 0.7191 - val_loss: 0.4832 - val_accuracy: 0.8662\n",
      "Epoch 162/1000\n",
      " 1/34 [..............................] - ETA: 0s - loss: 0.8698 - accuracy: 0.6875\n",
      "Epoch 162: saving model to model/keypoint_classifier\\keypoint_classifier.hdf5\n",
      "34/34 [==============================] - 0s 2ms/step - loss: 0.8126 - accuracy: 0.7072 - val_loss: 0.4833 - val_accuracy: 0.8676\n",
      "Epoch 163/1000\n",
      " 1/34 [..............................] - ETA: 0s - loss: 0.7313 - accuracy: 0.6953\n",
      "Epoch 163: saving model to model/keypoint_classifier\\keypoint_classifier.hdf5\n",
      "34/34 [==============================] - 0s 2ms/step - loss: 0.7903 - accuracy: 0.7170 - val_loss: 0.4762 - val_accuracy: 0.8704\n",
      "Epoch 164/1000\n",
      " 1/34 [..............................] - ETA: 0s - loss: 0.8125 - accuracy: 0.7109\n",
      "Epoch 164: saving model to model/keypoint_classifier\\keypoint_classifier.hdf5\n",
      "34/34 [==============================] - 0s 2ms/step - loss: 0.7978 - accuracy: 0.7172 - val_loss: 0.4782 - val_accuracy: 0.8662\n",
      "Epoch 165/1000\n",
      " 1/34 [..............................] - ETA: 0s - loss: 0.9194 - accuracy: 0.7109\n",
      "Epoch 165: saving model to model/keypoint_classifier\\keypoint_classifier.hdf5\n",
      "34/34 [==============================] - 0s 2ms/step - loss: 0.8008 - accuracy: 0.7133 - val_loss: 0.4774 - val_accuracy: 0.8697\n",
      "Epoch 166/1000\n",
      " 1/34 [..............................] - ETA: 0s - loss: 0.7022 - accuracy: 0.7578\n",
      "Epoch 166: saving model to model/keypoint_classifier\\keypoint_classifier.hdf5\n",
      "34/34 [==============================] - 0s 2ms/step - loss: 0.7989 - accuracy: 0.7198 - val_loss: 0.4802 - val_accuracy: 0.8648\n",
      "Epoch 167/1000\n",
      " 1/34 [..............................] - ETA: 0s - loss: 0.7280 - accuracy: 0.7188\n",
      "Epoch 167: saving model to model/keypoint_classifier\\keypoint_classifier.hdf5\n",
      "34/34 [==============================] - 0s 2ms/step - loss: 0.7936 - accuracy: 0.7182 - val_loss: 0.4823 - val_accuracy: 0.8619\n",
      "Epoch 168/1000\n",
      " 1/34 [..............................] - ETA: 0s - loss: 0.7373 - accuracy: 0.7578\n",
      "Epoch 168: saving model to model/keypoint_classifier\\keypoint_classifier.hdf5\n",
      "34/34 [==============================] - 0s 2ms/step - loss: 0.8059 - accuracy: 0.7088 - val_loss: 0.4808 - val_accuracy: 0.8683\n",
      "Epoch 168: early stopping\n"
     ]
    },
    {
     "data": {
      "text/plain": "<keras.callbacks.History at 0x1dddef89250>"
     },
     "execution_count": 77,
     "metadata": {},
     "output_type": "execute_result"
    }
   ],
   "source": [
    "model.fit(\n",
    "    X_train,\n",
    "    y_train,\n",
    "    epochs=1000,\n",
    "    batch_size=128,\n",
    "    validation_data=(X_test, y_test),\n",
    "    callbacks=[cp_callback, es_callback]\n",
    ")"
   ]
  },
  {
   "cell_type": "code",
   "execution_count": 78,
   "metadata": {
    "pycharm": {
     "name": "#%%\n"
    }
   },
   "outputs": [
    {
     "name": "stdout",
     "output_type": "stream",
     "text": [
      "12/12 [==============================] - 0s 0s/step - loss: 0.4808 - accuracy: 0.8683\n"
     ]
    }
   ],
   "source": [
    "# モデル評価\n",
    "val_loss, val_acc = model.evaluate(X_test, y_test, batch_size=128)"
   ]
  },
  {
   "cell_type": "code",
   "execution_count": 79,
   "outputs": [],
   "source": [
    "# 保存したモデルのロード\n",
    "model = tf.keras.models.load_model(model_save_path)"
   ],
   "metadata": {
    "collapsed": false,
    "pycharm": {
     "name": "#%%\n"
    }
   }
  },
  {
   "cell_type": "code",
   "execution_count": 80,
   "metadata": {
    "pycharm": {
     "name": "#%%\n"
    }
   },
   "outputs": [
    {
     "name": "stdout",
     "output_type": "stream",
     "text": [
      "1/1 [==============================] - 0s 31ms/step\n",
      "[0.00255711 0.803174   0.0374963  0.01075428 0.00582445 0.13908766\n",
      " 0.00110616]\n",
      "1\n"
     ]
    }
   ],
   "source": [
    "# 推論テスト\n",
    "predict_result = model.predict(np.array([X_test[0]]))\n",
    "print(np.squeeze(predict_result))\n",
    "print(np.argmax(np.squeeze(predict_result)))"
   ]
  },
  {
   "cell_type": "markdown",
   "metadata": {
    "pycharm": {
     "name": "#%% md\n"
    }
   },
   "source": [
    "# 混同行列"
   ]
  },
  {
   "cell_type": "code",
   "execution_count": 81,
   "metadata": {
    "pycharm": {
     "name": "#%%\n"
    }
   },
   "outputs": [
    {
     "name": "stdout",
     "output_type": "stream",
     "text": [
      "45/45 [==============================] - 0s 710us/step\n"
     ]
    },
    {
     "data": {
      "text/plain": "<Figure size 504x432 with 2 Axes>",
      "image/png": "[encoded data removed]"
     },
     "metadata": {
      "needs_background": "light"
     },
     "output_type": "display_data"
    },
    {
     "name": "stdout",
     "output_type": "stream",
     "text": [
      "Classification Report\n",
      "              precision    recall  f1-score   support\n",
      "\n",
      "           0       0.95      0.98      0.96       411\n",
      "           1       0.80      0.93      0.86       376\n",
      "           2       0.82      0.98      0.89       343\n",
      "           3       0.96      0.52      0.68       102\n",
      "           4       1.00      0.90      0.95        78\n",
      "           5       1.00      0.01      0.02        81\n",
      "           6       0.97      0.78      0.86        36\n",
      "\n",
      "    accuracy                           0.87      1427\n",
      "   macro avg       0.93      0.73      0.75      1427\n",
      "weighted avg       0.88      0.87      0.84      1427\n",
      "\n"
     ]
    }
   ],
   "source": [
    "import pandas as pd\n",
    "import seaborn as sns\n",
    "import matplotlib.pyplot as plt\n",
    "from sklearn.metrics import confusion_matrix, classification_report\n",
    "\n",
    "def print_confusion_matrix(y_true, y_pred, report=True):\n",
    "    labels = sorted(list(set(y_true)))\n",
    "    cmx_data = confusion_matrix(y_true, y_pred, labels=labels)\n",
    "    \n",
    "    df_cmx = pd.DataFrame(cmx_data, index=labels, columns=labels)\n",
    " \n",
    "    fig, ax = plt.subplots(figsize=(7, 6))\n",
    "    sns.heatmap(df_cmx, annot=True, fmt='g' ,square=False)\n",
    "    ax.set_ylim(len(set(y_true)), 0)\n",
    "    plt.show()\n",
    "    \n",
    "    if report:\n",
    "        print('Classification Report')\n",
    "        print(classification_report(y_test, y_pred))\n",
    "\n",
    "Y_pred = model.predict(X_test)\n",
    "y_pred = np.argmax(Y_pred, axis=1)\n",
    "\n",
    "print_confusion_matrix(y_test, y_pred)"
   ]
  },
  {
   "cell_type": "markdown",
   "metadata": {
    "pycharm": {
     "name": "#%% md\n"
    }
   },
   "source": [
    "# Tensorflow-Lite用のモデルへ変換"
   ]
  },
  {
   "cell_type": "code",
   "execution_count": 82,
   "metadata": {
    "pycharm": {
     "name": "#%%\n"
    }
   },
   "outputs": [],
   "source": [
    "# 推論専用のモデルとして保存\n",
    "model.save(model_save_path, include_optimizer=False)"
   ]
  },
  {
   "cell_type": "code",
   "execution_count": 83,
   "metadata": {
    "pycharm": {
     "name": "#%%\n"
    }
   },
   "outputs": [
    {
     "name": "stdout",
     "output_type": "stream",
     "text": [
      "INFO:tensorflow:Assets written to: C:\\Users\\tproh\\AppData\\Local\\Temp\\tmpe_2m06qd\\assets\n"
     ]
    },
    {
     "name": "stderr",
     "output_type": "stream",
     "text": [
      "INFO:tensorflow:Assets written to: C:\\Users\\tproh\\AppData\\Local\\Temp\\tmpe_2m06qd\\assets\n"
     ]
    },
    {
     "data": {
      "text/plain": "6684"
     },
     "execution_count": 83,
     "metadata": {},
     "output_type": "execute_result"
    }
   ],
   "source": [
    "# モデルを変換(量子化)\n",
    "tflite_save_path = 'model/keypoint_classifier/keypoint_classifier.tflite'\n",
    "\n",
    "converter = tf.lite.TFLiteConverter.from_keras_model(model)\n",
    "converter.optimizations = [tf.lite.Optimize.DEFAULT]\n",
    "tflite_quantized_model = converter.convert()\n",
    "\n",
    "open(tflite_save_path, 'wb').write(tflite_quantized_model)"
   ]
  },
  {
   "cell_type": "markdown",
   "metadata": {
    "pycharm": {
     "name": "#%% md\n"
    }
   },
   "source": [
    "# 推論テスト"
   ]
  },
  {
   "cell_type": "code",
   "execution_count": 84,
   "metadata": {
    "pycharm": {
     "name": "#%%\n"
    }
   },
   "outputs": [],
   "source": [
    "interpreter = tf.lite.Interpreter(model_path=tflite_save_path)\n",
    "interpreter.allocate_tensors()"
   ]
  },
  {
   "cell_type": "code",
   "execution_count": 85,
   "metadata": {
    "pycharm": {
     "name": "#%%\n"
    }
   },
   "outputs": [],
   "source": [
    "# 入出力テンソルを取得\n",
    "input_details = interpreter.get_input_details()\n",
    "output_details = interpreter.get_output_details()"
   ]
  },
  {
   "cell_type": "code",
   "execution_count": 86,
   "metadata": {
    "pycharm": {
     "name": "#%%\n"
    }
   },
   "outputs": [],
   "source": [
    "interpreter.set_tensor(input_details[0]['index'], np.array([X_test[0]]))"
   ]
  },
  {
   "cell_type": "code",
   "execution_count": 87,
   "metadata": {
    "scrolled": true,
    "pycharm": {
     "name": "#%%\n"
    }
   },
   "outputs": [
    {
     "name": "stdout",
     "output_type": "stream",
     "text": [
      "CPU times: total: 0 ns\n",
      "Wall time: 0 ns\n"
     ]
    }
   ],
   "source": [
    "%%time\n",
    "# 推論実施\n",
    "interpreter.invoke()\n",
    "tflite_results = interpreter.get_tensor(output_details[0]['index'])"
   ]
  },
  {
   "cell_type": "code",
   "execution_count": 88,
   "metadata": {
    "pycharm": {
     "name": "#%%\n"
    }
   },
   "outputs": [
    {
     "name": "stdout",
     "output_type": "stream",
     "text": [
      "[0.00255711 0.803174   0.03749633 0.01075428 0.00582445 0.13908768\n",
      " 0.00110616]\n",
      "1\n"
     ]
    }
   ],
   "source": [
    "print(np.squeeze(tflite_results))\n",
    "print(np.argmax(np.squeeze(tflite_results)))\n"
   ]
  }
 ],
 "metadata": {
  "kernelspec": {
   "display_name": "Python 3",
   "language": "python",
   "name": "python3"
  },
  "language_info": {
   "codemirror_mode": {
    "name": "ipython",
    "version": 3
   },
   "file_extension": ".py",
   "mimetype": "text/x-python",
   "name": "python",
   "nbconvert_exporter": "python",
   "pygments_lexer": "ipython3",
   "version": "3.8.5"
  }
 },
 "nbformat": 4,
 "nbformat_minor": 4
}